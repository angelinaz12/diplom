{
 "cells": [
  {
   "cell_type": "markdown",
   "metadata": {},
   "source": [
    "# Анализ  Google Play market"
   ]
  },
  {
   "cell_type": "markdown",
   "metadata": {},
   "source": [
    "### Оглавление\n",
    "\n",
    "1. [Загрузка данных](#loading)\n",
    "2. [Подготовка данных](#prep)\n",
    "  1. [Выбросы](#nan)\n",
    "  2. [Очистка данных](#clearing)\n",
    "3. [EDA](#eda)\n",
    "4. "
   ]
  },
  {
   "cell_type": "markdown",
   "metadata": {},
   "source": [
    "### Загрузка данных\n",
    "<a id=loading></a>"
   ]
  },
  {
   "cell_type": "code",
   "execution_count": 76,
   "metadata": {},
   "outputs": [],
   "source": [
    "import pandas as pd\n",
    "import numpy as np\n",
    "import matplotlib.pyplot as plt\n",
    "import seaborn as sns"
   ]
  },
  {
   "cell_type": "code",
   "execution_count": 2,
   "metadata": {},
   "outputs": [
    {
     "data": {
      "text/html": [
       "<div>\n",
       "<style scoped>\n",
       "    .dataframe tbody tr th:only-of-type {\n",
       "        vertical-align: middle;\n",
       "    }\n",
       "\n",
       "    .dataframe tbody tr th {\n",
       "        vertical-align: top;\n",
       "    }\n",
       "\n",
       "    .dataframe thead th {\n",
       "        text-align: right;\n",
       "    }\n",
       "</style>\n",
       "<table border=\"1\" class=\"dataframe\">\n",
       "  <thead>\n",
       "    <tr style=\"text-align: right;\">\n",
       "      <th></th>\n",
       "      <th>App</th>\n",
       "      <th>Category</th>\n",
       "      <th>Rating</th>\n",
       "      <th>Reviews</th>\n",
       "      <th>Size</th>\n",
       "      <th>Installs</th>\n",
       "      <th>Type</th>\n",
       "      <th>Price</th>\n",
       "      <th>Content Rating</th>\n",
       "      <th>Genres</th>\n",
       "      <th>Last Updated</th>\n",
       "      <th>Current Ver</th>\n",
       "      <th>Android Ver</th>\n",
       "    </tr>\n",
       "  </thead>\n",
       "  <tbody>\n",
       "    <tr>\n",
       "      <th>0</th>\n",
       "      <td>Photo Editor &amp; Candy Camera &amp; Grid &amp; ScrapBook</td>\n",
       "      <td>ART_AND_DESIGN</td>\n",
       "      <td>4.1</td>\n",
       "      <td>159</td>\n",
       "      <td>19M</td>\n",
       "      <td>10,000+</td>\n",
       "      <td>Free</td>\n",
       "      <td>0</td>\n",
       "      <td>Everyone</td>\n",
       "      <td>Art &amp; Design</td>\n",
       "      <td>January 7, 2018</td>\n",
       "      <td>1.0.0</td>\n",
       "      <td>4.0.3 and up</td>\n",
       "    </tr>\n",
       "    <tr>\n",
       "      <th>1</th>\n",
       "      <td>Coloring book moana</td>\n",
       "      <td>ART_AND_DESIGN</td>\n",
       "      <td>3.9</td>\n",
       "      <td>967</td>\n",
       "      <td>14M</td>\n",
       "      <td>500,000+</td>\n",
       "      <td>Free</td>\n",
       "      <td>0</td>\n",
       "      <td>Everyone</td>\n",
       "      <td>Art &amp; Design;Pretend Play</td>\n",
       "      <td>January 15, 2018</td>\n",
       "      <td>2.0.0</td>\n",
       "      <td>4.0.3 and up</td>\n",
       "    </tr>\n",
       "    <tr>\n",
       "      <th>2</th>\n",
       "      <td>U Launcher Lite – FREE Live Cool Themes, Hide ...</td>\n",
       "      <td>ART_AND_DESIGN</td>\n",
       "      <td>4.7</td>\n",
       "      <td>87510</td>\n",
       "      <td>8.7M</td>\n",
       "      <td>5,000,000+</td>\n",
       "      <td>Free</td>\n",
       "      <td>0</td>\n",
       "      <td>Everyone</td>\n",
       "      <td>Art &amp; Design</td>\n",
       "      <td>August 1, 2018</td>\n",
       "      <td>1.2.4</td>\n",
       "      <td>4.0.3 and up</td>\n",
       "    </tr>\n",
       "    <tr>\n",
       "      <th>3</th>\n",
       "      <td>Sketch - Draw &amp; Paint</td>\n",
       "      <td>ART_AND_DESIGN</td>\n",
       "      <td>4.5</td>\n",
       "      <td>215644</td>\n",
       "      <td>25M</td>\n",
       "      <td>50,000,000+</td>\n",
       "      <td>Free</td>\n",
       "      <td>0</td>\n",
       "      <td>Teen</td>\n",
       "      <td>Art &amp; Design</td>\n",
       "      <td>June 8, 2018</td>\n",
       "      <td>Varies with device</td>\n",
       "      <td>4.2 and up</td>\n",
       "    </tr>\n",
       "    <tr>\n",
       "      <th>4</th>\n",
       "      <td>Pixel Draw - Number Art Coloring Book</td>\n",
       "      <td>ART_AND_DESIGN</td>\n",
       "      <td>4.3</td>\n",
       "      <td>967</td>\n",
       "      <td>2.8M</td>\n",
       "      <td>100,000+</td>\n",
       "      <td>Free</td>\n",
       "      <td>0</td>\n",
       "      <td>Everyone</td>\n",
       "      <td>Art &amp; Design;Creativity</td>\n",
       "      <td>June 20, 2018</td>\n",
       "      <td>1.1</td>\n",
       "      <td>4.4 and up</td>\n",
       "    </tr>\n",
       "  </tbody>\n",
       "</table>\n",
       "</div>"
      ],
      "text/plain": [
       "                                                 App        Category  Rating  \\\n",
       "0     Photo Editor & Candy Camera & Grid & ScrapBook  ART_AND_DESIGN     4.1   \n",
       "1                                Coloring book moana  ART_AND_DESIGN     3.9   \n",
       "2  U Launcher Lite – FREE Live Cool Themes, Hide ...  ART_AND_DESIGN     4.7   \n",
       "3                              Sketch - Draw & Paint  ART_AND_DESIGN     4.5   \n",
       "4              Pixel Draw - Number Art Coloring Book  ART_AND_DESIGN     4.3   \n",
       "\n",
       "  Reviews  Size     Installs  Type Price Content Rating  \\\n",
       "0     159   19M      10,000+  Free     0       Everyone   \n",
       "1     967   14M     500,000+  Free     0       Everyone   \n",
       "2   87510  8.7M   5,000,000+  Free     0       Everyone   \n",
       "3  215644   25M  50,000,000+  Free     0           Teen   \n",
       "4     967  2.8M     100,000+  Free     0       Everyone   \n",
       "\n",
       "                      Genres      Last Updated         Current Ver  \\\n",
       "0               Art & Design   January 7, 2018               1.0.0   \n",
       "1  Art & Design;Pretend Play  January 15, 2018               2.0.0   \n",
       "2               Art & Design    August 1, 2018               1.2.4   \n",
       "3               Art & Design      June 8, 2018  Varies with device   \n",
       "4    Art & Design;Creativity     June 20, 2018                 1.1   \n",
       "\n",
       "    Android Ver  \n",
       "0  4.0.3 and up  \n",
       "1  4.0.3 and up  \n",
       "2  4.0.3 and up  \n",
       "3    4.2 and up  \n",
       "4    4.4 and up  "
      ]
     },
     "execution_count": 2,
     "metadata": {},
     "output_type": "execute_result"
    }
   ],
   "source": [
    "df = pd.read_csv('googleplaystore.csv')\n",
    "\n",
    "df.head()"
   ]
  },
  {
   "cell_type": "markdown",
   "metadata": {},
   "source": [
    "### Подготовка данных\n",
    "<a id=prep></a>"
   ]
  },
  {
   "cell_type": "code",
   "execution_count": 3,
   "metadata": {},
   "outputs": [
    {
     "data": {
      "text/plain": [
       "Index(['App', 'Category', 'Rating', 'Reviews', 'Size', 'Installs', 'Type',\n",
       "       'Price', 'Content Rating', 'Genres', 'Last Updated', 'Current Ver',\n",
       "       'Android Ver'],\n",
       "      dtype='object')"
      ]
     },
     "execution_count": 3,
     "metadata": {},
     "output_type": "execute_result"
    }
   ],
   "source": [
    "df.columns"
   ]
  },
  {
   "cell_type": "code",
   "execution_count": 4,
   "metadata": {},
   "outputs": [
    {
     "data": {
      "text/plain": [
       "Index(['App', 'Category', 'Rating', 'Reviews', 'Size', 'Installs', 'Type',\n",
       "       'Price', 'Content_Rating', 'Genres', 'Last_Updated', 'Current_Ver',\n",
       "       'Android_Ver'],\n",
       "      dtype='object')"
      ]
     },
     "execution_count": 4,
     "metadata": {},
     "output_type": "execute_result"
    }
   ],
   "source": [
    "#заменим пробелы в названиях колонок на _ для удобства\n",
    "df.columns = df.columns.str.replace(' ','_')\n",
    "df.columns"
   ]
  },
  {
   "cell_type": "code",
   "execution_count": 5,
   "metadata": {},
   "outputs": [
    {
     "name": "stdout",
     "output_type": "stream",
     "text": [
      "<class 'pandas.core.frame.DataFrame'>\n",
      "RangeIndex: 10841 entries, 0 to 10840\n",
      "Data columns (total 13 columns):\n",
      " #   Column          Non-Null Count  Dtype  \n",
      "---  ------          --------------  -----  \n",
      " 0   App             10841 non-null  object \n",
      " 1   Category        10841 non-null  object \n",
      " 2   Rating          9367 non-null   float64\n",
      " 3   Reviews         10841 non-null  object \n",
      " 4   Size            10841 non-null  object \n",
      " 5   Installs        10841 non-null  object \n",
      " 6   Type            10840 non-null  object \n",
      " 7   Price           10841 non-null  object \n",
      " 8   Content_Rating  10840 non-null  object \n",
      " 9   Genres          10841 non-null  object \n",
      " 10  Last_Updated    10841 non-null  object \n",
      " 11  Current_Ver     10833 non-null  object \n",
      " 12  Android_Ver     10838 non-null  object \n",
      "dtypes: float64(1), object(12)\n",
      "memory usage: 1.1+ MB\n"
     ]
    }
   ],
   "source": [
    "df.info()"
   ]
  },
  {
   "cell_type": "markdown",
   "metadata": {},
   "source": [
    "### Выбросы\n",
    "<a id=nan></a>"
   ]
  },
  {
   "cell_type": "code",
   "execution_count": 6,
   "metadata": {},
   "outputs": [
    {
     "data": {
      "text/html": [
       "<div>\n",
       "<style scoped>\n",
       "    .dataframe tbody tr th:only-of-type {\n",
       "        vertical-align: middle;\n",
       "    }\n",
       "\n",
       "    .dataframe tbody tr th {\n",
       "        vertical-align: top;\n",
       "    }\n",
       "\n",
       "    .dataframe thead th {\n",
       "        text-align: right;\n",
       "    }\n",
       "</style>\n",
       "<table border=\"1\" class=\"dataframe\">\n",
       "  <thead>\n",
       "    <tr style=\"text-align: right;\">\n",
       "      <th></th>\n",
       "      <th>Rating</th>\n",
       "    </tr>\n",
       "  </thead>\n",
       "  <tbody>\n",
       "    <tr>\n",
       "      <th>count</th>\n",
       "      <td>9367.000000</td>\n",
       "    </tr>\n",
       "    <tr>\n",
       "      <th>mean</th>\n",
       "      <td>4.193338</td>\n",
       "    </tr>\n",
       "    <tr>\n",
       "      <th>std</th>\n",
       "      <td>0.537431</td>\n",
       "    </tr>\n",
       "    <tr>\n",
       "      <th>min</th>\n",
       "      <td>1.000000</td>\n",
       "    </tr>\n",
       "    <tr>\n",
       "      <th>25%</th>\n",
       "      <td>4.000000</td>\n",
       "    </tr>\n",
       "    <tr>\n",
       "      <th>50%</th>\n",
       "      <td>4.300000</td>\n",
       "    </tr>\n",
       "    <tr>\n",
       "      <th>75%</th>\n",
       "      <td>4.500000</td>\n",
       "    </tr>\n",
       "    <tr>\n",
       "      <th>max</th>\n",
       "      <td>19.000000</td>\n",
       "    </tr>\n",
       "  </tbody>\n",
       "</table>\n",
       "</div>"
      ],
      "text/plain": [
       "            Rating\n",
       "count  9367.000000\n",
       "mean      4.193338\n",
       "std       0.537431\n",
       "min       1.000000\n",
       "25%       4.000000\n",
       "50%       4.300000\n",
       "75%       4.500000\n",
       "max      19.000000"
      ]
     },
     "execution_count": 6,
     "metadata": {},
     "output_type": "execute_result"
    }
   ],
   "source": [
    "df.describe() \n",
    "#Проверим столбец Rating на наличие выбросов"
   ]
  },
  {
   "cell_type": "code",
   "execution_count": 7,
   "metadata": {},
   "outputs": [
    {
     "data": {
      "text/plain": [
       "<AxesSubplot:title={'center':'Распределение оценок'}>"
      ]
     },
     "execution_count": 7,
     "metadata": {},
     "output_type": "execute_result"
    },
    {
     "data": {
      "image/png": "[encoded data removed]",
      "text/plain": [
       "<Figure size 432x288 with 1 Axes>"
      ]
     },
     "metadata": {
      "needs_background": "light"
     },
     "output_type": "display_data"
    }
   ],
   "source": [
    "#Построим boxplot для удобства\n",
    "df['Rating'].plot(kind='box',\n",
    "                   title='Распределение оценок', grid=True)"
   ]
  },
  {
   "cell_type": "code",
   "execution_count": 8,
   "metadata": {},
   "outputs": [
    {
     "data": {
      "text/html": [
       "<div>\n",
       "<style scoped>\n",
       "    .dataframe tbody tr th:only-of-type {\n",
       "        vertical-align: middle;\n",
       "    }\n",
       "\n",
       "    .dataframe tbody tr th {\n",
       "        vertical-align: top;\n",
       "    }\n",
       "\n",
       "    .dataframe thead th {\n",
       "        text-align: right;\n",
       "    }\n",
       "</style>\n",
       "<table border=\"1\" class=\"dataframe\">\n",
       "  <thead>\n",
       "    <tr style=\"text-align: right;\">\n",
       "      <th></th>\n",
       "      <th>App</th>\n",
       "      <th>Category</th>\n",
       "      <th>Rating</th>\n",
       "      <th>Reviews</th>\n",
       "      <th>Size</th>\n",
       "      <th>Installs</th>\n",
       "      <th>Type</th>\n",
       "      <th>Price</th>\n",
       "      <th>Content_Rating</th>\n",
       "      <th>Genres</th>\n",
       "      <th>Last_Updated</th>\n",
       "      <th>Current_Ver</th>\n",
       "      <th>Android_Ver</th>\n",
       "    </tr>\n",
       "  </thead>\n",
       "  <tbody>\n",
       "    <tr>\n",
       "      <th>10472</th>\n",
       "      <td>Life Made WI-Fi Touchscreen Photo Frame</td>\n",
       "      <td>1.9</td>\n",
       "      <td>19.0</td>\n",
       "      <td>3.0M</td>\n",
       "      <td>1,000+</td>\n",
       "      <td>Free</td>\n",
       "      <td>0</td>\n",
       "      <td>Everyone</td>\n",
       "      <td>NaN</td>\n",
       "      <td>February 11, 2018</td>\n",
       "      <td>1.0.19</td>\n",
       "      <td>4.0 and up</td>\n",
       "      <td>NaN</td>\n",
       "    </tr>\n",
       "  </tbody>\n",
       "</table>\n",
       "</div>"
      ],
      "text/plain": [
       "                                           App Category  Rating Reviews  \\\n",
       "10472  Life Made WI-Fi Touchscreen Photo Frame      1.9    19.0    3.0M   \n",
       "\n",
       "         Size Installs Type     Price Content_Rating             Genres  \\\n",
       "10472  1,000+     Free    0  Everyone            NaN  February 11, 2018   \n",
       "\n",
       "      Last_Updated Current_Ver Android_Ver  \n",
       "10472       1.0.19  4.0 and up         NaN  "
      ]
     },
     "execution_count": 8,
     "metadata": {},
     "output_type": "execute_result"
    }
   ],
   "source": [
    "#На boxplot видно 1 значение,которое очень сильно отличается от остальных. Найдем эту строку в df\n",
    "df[df['Rating']>5]"
   ]
  },
  {
   "cell_type": "code",
   "execution_count": 9,
   "metadata": {},
   "outputs": [],
   "source": [
    "\"\"\"\n",
    "Данные в этой строке отличаются от всего df. Можно заметить,что записи введены некорректно и сдвинуты на 1 ячейку \n",
    "назад. Пока удалим строку.\n",
    "\"\"\"\n",
    "\n",
    "df.drop([10472], inplace=True)"
   ]
  },
  {
   "cell_type": "code",
   "execution_count": 10,
   "metadata": {},
   "outputs": [
    {
     "data": {
      "text/plain": [
       "<AxesSubplot:title={'center':'Распределение оценок'}>"
      ]
     },
     "execution_count": 10,
     "metadata": {},
     "output_type": "execute_result"
    },
    {
     "data": {
      "image/png": "[encoded data removed]",
      "text/plain": [
       "<Figure size 432x288 with 1 Axes>"
      ]
     },
     "metadata": {
      "needs_background": "light"
     },
     "output_type": "display_data"
    }
   ],
   "source": [
    "#после удаления некорректной строки\n",
    "df['Rating'].plot(kind='box',\n",
    "                   title='Распределение оценок', grid=True)"
   ]
  },
  {
   "cell_type": "markdown",
   "metadata": {},
   "source": [
    "### Очистка данных \n",
    "<a id=clearing></a>"
   ]
  },
  {
   "cell_type": "code",
   "execution_count": 11,
   "metadata": {},
   "outputs": [
    {
     "data": {
      "text/plain": [
       "array(['159', '967', '87510', ..., '603', '1195', '398307'], dtype=object)"
      ]
     },
     "execution_count": 11,
     "metadata": {},
     "output_type": "execute_result"
    }
   ],
   "source": [
    "df['Reviews'].unique()"
   ]
  },
  {
   "cell_type": "code",
   "execution_count": 12,
   "metadata": {},
   "outputs": [],
   "source": [
    "#Изменим значения столбца Reviews на числовые\n",
    "df['Reviews'] = df['Reviews'].astype('int')"
   ]
  },
  {
   "cell_type": "code",
   "execution_count": 13,
   "metadata": {},
   "outputs": [
    {
     "data": {
      "text/plain": [
       "array(['19M', '14M', '8.7M', '25M', '2.8M', '5.6M', '29M', '33M', '3.1M',\n",
       "       '28M', '12M', '20M', '21M', '37M', '2.7M', '5.5M', '17M', '39M',\n",
       "       '31M', '4.2M', '7.0M', '23M', '6.0M', '6.1M', '4.6M', '9.2M',\n",
       "       '5.2M', '11M', '24M', 'Varies with device', '9.4M', '15M', '10M',\n",
       "       '1.2M', '26M', '8.0M', '7.9M', '56M', '57M', '35M', '54M', '201k',\n",
       "       '3.6M', '5.7M', '8.6M', '2.4M', '27M', '2.5M', '16M', '3.4M',\n",
       "       '8.9M', '3.9M', '2.9M', '38M', '32M', '5.4M', '18M', '1.1M',\n",
       "       '2.2M', '4.5M', '9.8M', '52M', '9.0M', '6.7M', '30M', '2.6M',\n",
       "       '7.1M', '3.7M', '22M', '7.4M', '6.4M', '3.2M', '8.2M', '9.9M',\n",
       "       '4.9M', '9.5M', '5.0M', '5.9M', '13M', '73M', '6.8M', '3.5M',\n",
       "       '4.0M', '2.3M', '7.2M', '2.1M', '42M', '7.3M', '9.1M', '55M',\n",
       "       '23k', '6.5M', '1.5M', '7.5M', '51M', '41M', '48M', '8.5M', '46M',\n",
       "       '8.3M', '4.3M', '4.7M', '3.3M', '40M', '7.8M', '8.8M', '6.6M',\n",
       "       '5.1M', '61M', '66M', '79k', '8.4M', '118k', '44M', '695k', '1.6M',\n",
       "       '6.2M', '18k', '53M', '1.4M', '3.0M', '5.8M', '3.8M', '9.6M',\n",
       "       '45M', '63M', '49M', '77M', '4.4M', '4.8M', '70M', '6.9M', '9.3M',\n",
       "       '10.0M', '8.1M', '36M', '84M', '97M', '2.0M', '1.9M', '1.8M',\n",
       "       '5.3M', '47M', '556k', '526k', '76M', '7.6M', '59M', '9.7M', '78M',\n",
       "       '72M', '43M', '7.7M', '6.3M', '334k', '34M', '93M', '65M', '79M',\n",
       "       '100M', '58M', '50M', '68M', '64M', '67M', '60M', '94M', '232k',\n",
       "       '99M', '624k', '95M', '8.5k', '41k', '292k', '11k', '80M', '1.7M',\n",
       "       '74M', '62M', '69M', '75M', '98M', '85M', '82M', '96M', '87M',\n",
       "       '71M', '86M', '91M', '81M', '92M', '83M', '88M', '704k', '862k',\n",
       "       '899k', '378k', '266k', '375k', '1.3M', '975k', '980k', '4.1M',\n",
       "       '89M', '696k', '544k', '525k', '920k', '779k', '853k', '720k',\n",
       "       '713k', '772k', '318k', '58k', '241k', '196k', '857k', '51k',\n",
       "       '953k', '865k', '251k', '930k', '540k', '313k', '746k', '203k',\n",
       "       '26k', '314k', '239k', '371k', '220k', '730k', '756k', '91k',\n",
       "       '293k', '17k', '74k', '14k', '317k', '78k', '924k', '902k', '818k',\n",
       "       '81k', '939k', '169k', '45k', '475k', '965k', '90M', '545k', '61k',\n",
       "       '283k', '655k', '714k', '93k', '872k', '121k', '322k', '1.0M',\n",
       "       '976k', '172k', '238k', '549k', '206k', '954k', '444k', '717k',\n",
       "       '210k', '609k', '308k', '705k', '306k', '904k', '473k', '175k',\n",
       "       '350k', '383k', '454k', '421k', '70k', '812k', '442k', '842k',\n",
       "       '417k', '412k', '459k', '478k', '335k', '782k', '721k', '430k',\n",
       "       '429k', '192k', '200k', '460k', '728k', '496k', '816k', '414k',\n",
       "       '506k', '887k', '613k', '243k', '569k', '778k', '683k', '592k',\n",
       "       '319k', '186k', '840k', '647k', '191k', '373k', '437k', '598k',\n",
       "       '716k', '585k', '982k', '222k', '219k', '55k', '948k', '323k',\n",
       "       '691k', '511k', '951k', '963k', '25k', '554k', '351k', '27k',\n",
       "       '82k', '208k', '913k', '514k', '551k', '29k', '103k', '898k',\n",
       "       '743k', '116k', '153k', '209k', '353k', '499k', '173k', '597k',\n",
       "       '809k', '122k', '411k', '400k', '801k', '787k', '237k', '50k',\n",
       "       '643k', '986k', '97k', '516k', '837k', '780k', '961k', '269k',\n",
       "       '20k', '498k', '600k', '749k', '642k', '881k', '72k', '656k',\n",
       "       '601k', '221k', '228k', '108k', '940k', '176k', '33k', '663k',\n",
       "       '34k', '942k', '259k', '164k', '458k', '245k', '629k', '28k',\n",
       "       '288k', '775k', '785k', '636k', '916k', '994k', '309k', '485k',\n",
       "       '914k', '903k', '608k', '500k', '54k', '562k', '847k', '957k',\n",
       "       '688k', '811k', '270k', '48k', '329k', '523k', '921k', '874k',\n",
       "       '981k', '784k', '280k', '24k', '518k', '754k', '892k', '154k',\n",
       "       '860k', '364k', '387k', '626k', '161k', '879k', '39k', '970k',\n",
       "       '170k', '141k', '160k', '144k', '143k', '190k', '376k', '193k',\n",
       "       '246k', '73k', '658k', '992k', '253k', '420k', '404k', '470k',\n",
       "       '226k', '240k', '89k', '234k', '257k', '861k', '467k', '157k',\n",
       "       '44k', '676k', '67k', '552k', '885k', '1020k', '582k', '619k'],\n",
       "      dtype=object)"
      ]
     },
     "execution_count": 13,
     "metadata": {},
     "output_type": "execute_result"
    }
   ],
   "source": [
    "df['Size'].unique()"
   ]
  },
  {
   "cell_type": "code",
   "execution_count": 14,
   "metadata": {},
   "outputs": [],
   "source": [
    "#Изменим значения столбца Size на числовые, заменим 'Varies with device' на NaN, переведем все значения в Мб\n",
    "df['Size'] = df['Size'].apply(lambda x: str(x).replace('Varies with device', 'NaN') if 'Varies with device' in str(x) else x)\n",
    "\n",
    "df['Size'] = df['Size'].apply(lambda x: (str(x).replace('M','')) if 'M' in str(x) else x)\n",
    "df['Size'] = df['Size'].apply(lambda x: (str(x).replace(',','')) if 'M' in str(x) else x)\n",
    "df['Size'] = df['Size'].apply(lambda x: float(str(x).replace('k',''))/1000 if 'k' in str(x) else x)\n",
    "\n",
    "\n",
    "df['Size'] = df['Size'].astype(float)\n"
   ]
  },
  {
   "cell_type": "code",
   "execution_count": 15,
   "metadata": {},
   "outputs": [
    {
     "data": {
      "text/plain": [
       "array(['10,000+', '500,000+', '5,000,000+', '50,000,000+', '100,000+',\n",
       "       '50,000+', '1,000,000+', '10,000,000+', '5,000+', '100,000,000+',\n",
       "       '1,000,000,000+', '1,000+', '500,000,000+', '50+', '100+', '500+',\n",
       "       '10+', '1+', '5+', '0+', '0'], dtype=object)"
      ]
     },
     "execution_count": 15,
     "metadata": {},
     "output_type": "execute_result"
    }
   ],
   "source": [
    "df['Installs'].unique()"
   ]
  },
  {
   "cell_type": "code",
   "execution_count": 16,
   "metadata": {},
   "outputs": [],
   "source": [
    "#очистим столбец Installs от + и , переведем значения в числовой формат\n",
    "df['Installs'] = df['Installs'].apply(lambda x: x.replace('+', '') if '+' in str(x) else x)\n",
    "df['Installs'] = df['Installs'].apply(lambda x: x.replace(',', '') if ',' in str(x) else x)\n",
    "df['Installs'] = df['Installs'].astype(int)"
   ]
  },
  {
   "cell_type": "code",
   "execution_count": 17,
   "metadata": {},
   "outputs": [
    {
     "data": {
      "text/plain": [
       "array(['0', '$4.99', '$3.99', '$6.99', '$1.49', '$2.99', '$7.99', '$5.99',\n",
       "       '$3.49', '$1.99', '$9.99', '$7.49', '$0.99', '$9.00', '$5.49',\n",
       "       '$10.00', '$24.99', '$11.99', '$79.99', '$16.99', '$14.99',\n",
       "       '$1.00', '$29.99', '$12.99', '$2.49', '$10.99', '$1.50', '$19.99',\n",
       "       '$15.99', '$33.99', '$74.99', '$39.99', '$3.95', '$4.49', '$1.70',\n",
       "       '$8.99', '$2.00', '$3.88', '$25.99', '$399.99', '$17.99',\n",
       "       '$400.00', '$3.02', '$1.76', '$4.84', '$4.77', '$1.61', '$2.50',\n",
       "       '$1.59', '$6.49', '$1.29', '$5.00', '$13.99', '$299.99', '$379.99',\n",
       "       '$37.99', '$18.99', '$389.99', '$19.90', '$8.49', '$1.75',\n",
       "       '$14.00', '$4.85', '$46.99', '$109.99', '$154.99', '$3.08',\n",
       "       '$2.59', '$4.80', '$1.96', '$19.40', '$3.90', '$4.59', '$15.46',\n",
       "       '$3.04', '$4.29', '$2.60', '$3.28', '$4.60', '$28.99', '$2.95',\n",
       "       '$2.90', '$1.97', '$200.00', '$89.99', '$2.56', '$30.99', '$3.61',\n",
       "       '$394.99', '$1.26', '$1.20', '$1.04'], dtype=object)"
      ]
     },
     "execution_count": 17,
     "metadata": {},
     "output_type": "execute_result"
    }
   ],
   "source": [
    "df['Price'].unique()"
   ]
  },
  {
   "cell_type": "code",
   "execution_count": 18,
   "metadata": {},
   "outputs": [],
   "source": [
    "#очистим столбец Price от знака $ и переведм в числовой формат\n",
    "df['Price'] = df['Price'].apply(lambda x: str(x).replace('$', '') if '$' in str(x) else str(x))\n",
    "df['Price'] = df['Price'].astype(float)"
   ]
  },
  {
   "cell_type": "code",
   "execution_count": 19,
   "metadata": {},
   "outputs": [
    {
     "name": "stdout",
     "output_type": "stream",
     "text": [
      "<class 'pandas.core.frame.DataFrame'>\n",
      "Int64Index: 10840 entries, 0 to 10840\n",
      "Data columns (total 13 columns):\n",
      " #   Column          Non-Null Count  Dtype  \n",
      "---  ------          --------------  -----  \n",
      " 0   App             10840 non-null  object \n",
      " 1   Category        10840 non-null  object \n",
      " 2   Rating          9366 non-null   float64\n",
      " 3   Reviews         10840 non-null  int32  \n",
      " 4   Size            9145 non-null   float64\n",
      " 5   Installs        10840 non-null  int32  \n",
      " 6   Type            10839 non-null  object \n",
      " 7   Price           10840 non-null  float64\n",
      " 8   Content_Rating  10840 non-null  object \n",
      " 9   Genres          10840 non-null  object \n",
      " 10  Last_Updated    10840 non-null  object \n",
      " 11  Current_Ver     10832 non-null  object \n",
      " 12  Android_Ver     10838 non-null  object \n",
      "dtypes: float64(3), int32(2), object(8)\n",
      "memory usage: 1.1+ MB\n"
     ]
    }
   ],
   "source": [
    "df.info()"
   ]
  },
  {
   "cell_type": "code",
   "execution_count": 20,
   "metadata": {},
   "outputs": [
    {
     "data": {
      "text/html": [
       "<div>\n",
       "<style scoped>\n",
       "    .dataframe tbody tr th:only-of-type {\n",
       "        vertical-align: middle;\n",
       "    }\n",
       "\n",
       "    .dataframe tbody tr th {\n",
       "        vertical-align: top;\n",
       "    }\n",
       "\n",
       "    .dataframe thead th {\n",
       "        text-align: right;\n",
       "    }\n",
       "</style>\n",
       "<table border=\"1\" class=\"dataframe\">\n",
       "  <thead>\n",
       "    <tr style=\"text-align: right;\">\n",
       "      <th></th>\n",
       "      <th>Rating</th>\n",
       "      <th>Reviews</th>\n",
       "      <th>Size</th>\n",
       "      <th>Installs</th>\n",
       "      <th>Price</th>\n",
       "    </tr>\n",
       "  </thead>\n",
       "  <tbody>\n",
       "    <tr>\n",
       "      <th>count</th>\n",
       "      <td>9366.000000</td>\n",
       "      <td>1.084000e+04</td>\n",
       "      <td>9145.000000</td>\n",
       "      <td>1.084000e+04</td>\n",
       "      <td>10840.000000</td>\n",
       "    </tr>\n",
       "    <tr>\n",
       "      <th>mean</th>\n",
       "      <td>4.191757</td>\n",
       "      <td>4.441529e+05</td>\n",
       "      <td>21.516530</td>\n",
       "      <td>1.546434e+07</td>\n",
       "      <td>1.027368</td>\n",
       "    </tr>\n",
       "    <tr>\n",
       "      <th>std</th>\n",
       "      <td>0.515219</td>\n",
       "      <td>2.927761e+06</td>\n",
       "      <td>22.588748</td>\n",
       "      <td>8.502936e+07</td>\n",
       "      <td>15.949703</td>\n",
       "    </tr>\n",
       "    <tr>\n",
       "      <th>min</th>\n",
       "      <td>1.000000</td>\n",
       "      <td>0.000000e+00</td>\n",
       "      <td>0.008500</td>\n",
       "      <td>0.000000e+00</td>\n",
       "      <td>0.000000</td>\n",
       "    </tr>\n",
       "    <tr>\n",
       "      <th>25%</th>\n",
       "      <td>4.000000</td>\n",
       "      <td>3.800000e+01</td>\n",
       "      <td>4.900000</td>\n",
       "      <td>1.000000e+03</td>\n",
       "      <td>0.000000</td>\n",
       "    </tr>\n",
       "    <tr>\n",
       "      <th>50%</th>\n",
       "      <td>4.300000</td>\n",
       "      <td>2.094000e+03</td>\n",
       "      <td>13.000000</td>\n",
       "      <td>1.000000e+05</td>\n",
       "      <td>0.000000</td>\n",
       "    </tr>\n",
       "    <tr>\n",
       "      <th>75%</th>\n",
       "      <td>4.500000</td>\n",
       "      <td>5.477550e+04</td>\n",
       "      <td>30.000000</td>\n",
       "      <td>5.000000e+06</td>\n",
       "      <td>0.000000</td>\n",
       "    </tr>\n",
       "    <tr>\n",
       "      <th>max</th>\n",
       "      <td>5.000000</td>\n",
       "      <td>7.815831e+07</td>\n",
       "      <td>100.000000</td>\n",
       "      <td>1.000000e+09</td>\n",
       "      <td>400.000000</td>\n",
       "    </tr>\n",
       "  </tbody>\n",
       "</table>\n",
       "</div>"
      ],
      "text/plain": [
       "            Rating       Reviews         Size      Installs         Price\n",
       "count  9366.000000  1.084000e+04  9145.000000  1.084000e+04  10840.000000\n",
       "mean      4.191757  4.441529e+05    21.516530  1.546434e+07      1.027368\n",
       "std       0.515219  2.927761e+06    22.588748  8.502936e+07     15.949703\n",
       "min       1.000000  0.000000e+00     0.008500  0.000000e+00      0.000000\n",
       "25%       4.000000  3.800000e+01     4.900000  1.000000e+03      0.000000\n",
       "50%       4.300000  2.094000e+03    13.000000  1.000000e+05      0.000000\n",
       "75%       4.500000  5.477550e+04    30.000000  5.000000e+06      0.000000\n",
       "max       5.000000  7.815831e+07   100.000000  1.000000e+09    400.000000"
      ]
     },
     "execution_count": 20,
     "metadata": {},
     "output_type": "execute_result"
    }
   ],
   "source": [
    "df.describe()"
   ]
  },
  {
   "cell_type": "code",
   "execution_count": 21,
   "metadata": {},
   "outputs": [],
   "source": [
    "#Переведем столбец Last_Updated в формат datetime\n",
    "from datetime import datetime\n",
    "df['Last_Updated']= pd.to_datetime(df.Last_Updated)"
   ]
  },
  {
   "cell_type": "code",
   "execution_count": 22,
   "metadata": {},
   "outputs": [
    {
     "data": {
      "text/html": [
       "<div>\n",
       "<style scoped>\n",
       "    .dataframe tbody tr th:only-of-type {\n",
       "        vertical-align: middle;\n",
       "    }\n",
       "\n",
       "    .dataframe tbody tr th {\n",
       "        vertical-align: top;\n",
       "    }\n",
       "\n",
       "    .dataframe thead th {\n",
       "        text-align: right;\n",
       "    }\n",
       "</style>\n",
       "<table border=\"1\" class=\"dataframe\">\n",
       "  <thead>\n",
       "    <tr style=\"text-align: right;\">\n",
       "      <th></th>\n",
       "      <th>App</th>\n",
       "      <th>Category</th>\n",
       "      <th>Rating</th>\n",
       "      <th>Reviews</th>\n",
       "      <th>Size</th>\n",
       "      <th>Installs</th>\n",
       "      <th>Type</th>\n",
       "      <th>Price</th>\n",
       "      <th>Content_Rating</th>\n",
       "      <th>Genres</th>\n",
       "      <th>Last_Updated</th>\n",
       "      <th>Current_Ver</th>\n",
       "      <th>Android_Ver</th>\n",
       "    </tr>\n",
       "  </thead>\n",
       "  <tbody>\n",
       "    <tr>\n",
       "      <th>0</th>\n",
       "      <td>Photo Editor &amp; Candy Camera &amp; Grid &amp; ScrapBook</td>\n",
       "      <td>ART_AND_DESIGN</td>\n",
       "      <td>4.1</td>\n",
       "      <td>159</td>\n",
       "      <td>19.0</td>\n",
       "      <td>10000</td>\n",
       "      <td>Free</td>\n",
       "      <td>0.0</td>\n",
       "      <td>Everyone</td>\n",
       "      <td>Art &amp; Design</td>\n",
       "      <td>2018-01-07</td>\n",
       "      <td>1.0.0</td>\n",
       "      <td>4.0.3 and up</td>\n",
       "    </tr>\n",
       "    <tr>\n",
       "      <th>1</th>\n",
       "      <td>Coloring book moana</td>\n",
       "      <td>ART_AND_DESIGN</td>\n",
       "      <td>3.9</td>\n",
       "      <td>967</td>\n",
       "      <td>14.0</td>\n",
       "      <td>500000</td>\n",
       "      <td>Free</td>\n",
       "      <td>0.0</td>\n",
       "      <td>Everyone</td>\n",
       "      <td>Art &amp; Design;Pretend Play</td>\n",
       "      <td>2018-01-15</td>\n",
       "      <td>2.0.0</td>\n",
       "      <td>4.0.3 and up</td>\n",
       "    </tr>\n",
       "    <tr>\n",
       "      <th>2</th>\n",
       "      <td>U Launcher Lite – FREE Live Cool Themes, Hide ...</td>\n",
       "      <td>ART_AND_DESIGN</td>\n",
       "      <td>4.7</td>\n",
       "      <td>87510</td>\n",
       "      <td>8.7</td>\n",
       "      <td>5000000</td>\n",
       "      <td>Free</td>\n",
       "      <td>0.0</td>\n",
       "      <td>Everyone</td>\n",
       "      <td>Art &amp; Design</td>\n",
       "      <td>2018-08-01</td>\n",
       "      <td>1.2.4</td>\n",
       "      <td>4.0.3 and up</td>\n",
       "    </tr>\n",
       "    <tr>\n",
       "      <th>3</th>\n",
       "      <td>Sketch - Draw &amp; Paint</td>\n",
       "      <td>ART_AND_DESIGN</td>\n",
       "      <td>4.5</td>\n",
       "      <td>215644</td>\n",
       "      <td>25.0</td>\n",
       "      <td>50000000</td>\n",
       "      <td>Free</td>\n",
       "      <td>0.0</td>\n",
       "      <td>Teen</td>\n",
       "      <td>Art &amp; Design</td>\n",
       "      <td>2018-06-08</td>\n",
       "      <td>Varies with device</td>\n",
       "      <td>4.2 and up</td>\n",
       "    </tr>\n",
       "    <tr>\n",
       "      <th>4</th>\n",
       "      <td>Pixel Draw - Number Art Coloring Book</td>\n",
       "      <td>ART_AND_DESIGN</td>\n",
       "      <td>4.3</td>\n",
       "      <td>967</td>\n",
       "      <td>2.8</td>\n",
       "      <td>100000</td>\n",
       "      <td>Free</td>\n",
       "      <td>0.0</td>\n",
       "      <td>Everyone</td>\n",
       "      <td>Art &amp; Design;Creativity</td>\n",
       "      <td>2018-06-20</td>\n",
       "      <td>1.1</td>\n",
       "      <td>4.4 and up</td>\n",
       "    </tr>\n",
       "  </tbody>\n",
       "</table>\n",
       "</div>"
      ],
      "text/plain": [
       "                                                 App        Category  Rating  \\\n",
       "0     Photo Editor & Candy Camera & Grid & ScrapBook  ART_AND_DESIGN     4.1   \n",
       "1                                Coloring book moana  ART_AND_DESIGN     3.9   \n",
       "2  U Launcher Lite – FREE Live Cool Themes, Hide ...  ART_AND_DESIGN     4.7   \n",
       "3                              Sketch - Draw & Paint  ART_AND_DESIGN     4.5   \n",
       "4              Pixel Draw - Number Art Coloring Book  ART_AND_DESIGN     4.3   \n",
       "\n",
       "   Reviews  Size  Installs  Type  Price Content_Rating  \\\n",
       "0      159  19.0     10000  Free    0.0       Everyone   \n",
       "1      967  14.0    500000  Free    0.0       Everyone   \n",
       "2    87510   8.7   5000000  Free    0.0       Everyone   \n",
       "3   215644  25.0  50000000  Free    0.0           Teen   \n",
       "4      967   2.8    100000  Free    0.0       Everyone   \n",
       "\n",
       "                      Genres Last_Updated         Current_Ver   Android_Ver  \n",
       "0               Art & Design   2018-01-07               1.0.0  4.0.3 and up  \n",
       "1  Art & Design;Pretend Play   2018-01-15               2.0.0  4.0.3 and up  \n",
       "2               Art & Design   2018-08-01               1.2.4  4.0.3 and up  \n",
       "3               Art & Design   2018-06-08  Varies with device    4.2 and up  \n",
       "4    Art & Design;Creativity   2018-06-20                 1.1    4.4 and up  "
      ]
     },
     "execution_count": 22,
     "metadata": {},
     "output_type": "execute_result"
    }
   ],
   "source": [
    "df.head()"
   ]
  },
  {
   "cell_type": "markdown",
   "metadata": {},
   "source": [
    "### EDA\n",
    "<a id=eda></a>"
   ]
  },
  {
   "cell_type": "code",
   "execution_count": 100,
   "metadata": {},
   "outputs": [
    {
     "data": {
      "text/plain": [
       "<seaborn.axisgrid.PairGrid at 0x21beae50>"
      ]
     },
     "execution_count": 100,
     "metadata": {},
     "output_type": "execute_result"
    },
    {
     "data": {
      "image/png": "[encoded data removed]",
      "text/plain": [
       "<Figure size 900x900 with 30 Axes>"
      ]
     },
     "metadata": {
      "needs_background": "light"
     },
     "output_type": "display_data"
    }
   ],
   "source": [
    "sns.pairplot(df)"
   ]
  },
  {
   "cell_type": "code",
   "execution_count": 89,
   "metadata": {},
   "outputs": [
    {
     "data": {
      "text/html": [
       "<div>\n",
       "<style scoped>\n",
       "    .dataframe tbody tr th:only-of-type {\n",
       "        vertical-align: middle;\n",
       "    }\n",
       "\n",
       "    .dataframe tbody tr th {\n",
       "        vertical-align: top;\n",
       "    }\n",
       "\n",
       "    .dataframe thead th {\n",
       "        text-align: right;\n",
       "    }\n",
       "</style>\n",
       "<table border=\"1\" class=\"dataframe\">\n",
       "  <thead>\n",
       "    <tr style=\"text-align: right;\">\n",
       "      <th></th>\n",
       "      <th>Installs</th>\n",
       "    </tr>\n",
       "    <tr>\n",
       "      <th>Category</th>\n",
       "      <th></th>\n",
       "    </tr>\n",
       "  </thead>\n",
       "  <tbody>\n",
       "    <tr>\n",
       "      <th>GAME</th>\n",
       "      <td>3.508602e+10</td>\n",
       "    </tr>\n",
       "    <tr>\n",
       "      <th>COMMUNICATION</th>\n",
       "      <td>3.264728e+10</td>\n",
       "    </tr>\n",
       "    <tr>\n",
       "      <th>PRODUCTIVITY</th>\n",
       "      <td>1.417609e+10</td>\n",
       "    </tr>\n",
       "    <tr>\n",
       "      <th>SOCIAL</th>\n",
       "      <td>1.406987e+10</td>\n",
       "    </tr>\n",
       "    <tr>\n",
       "      <th>TOOLS</th>\n",
       "      <td>1.145277e+10</td>\n",
       "    </tr>\n",
       "    <tr>\n",
       "      <th>FAMILY</th>\n",
       "      <td>1.025826e+10</td>\n",
       "    </tr>\n",
       "    <tr>\n",
       "      <th>PHOTOGRAPHY</th>\n",
       "      <td>1.008825e+10</td>\n",
       "    </tr>\n",
       "    <tr>\n",
       "      <th>NEWS_AND_MAGAZINES</th>\n",
       "      <td>7.496318e+09</td>\n",
       "    </tr>\n",
       "    <tr>\n",
       "      <th>TRAVEL_AND_LOCAL</th>\n",
       "      <td>6.868887e+09</td>\n",
       "    </tr>\n",
       "    <tr>\n",
       "      <th>VIDEO_PLAYERS</th>\n",
       "      <td>6.222003e+09</td>\n",
       "    </tr>\n",
       "    <tr>\n",
       "      <th>SHOPPING</th>\n",
       "      <td>3.247849e+09</td>\n",
       "    </tr>\n",
       "    <tr>\n",
       "      <th>ENTERTAINMENT</th>\n",
       "      <td>2.869160e+09</td>\n",
       "    </tr>\n",
       "    <tr>\n",
       "      <th>PERSONALIZATION</th>\n",
       "      <td>2.325495e+09</td>\n",
       "    </tr>\n",
       "    <tr>\n",
       "      <th>BOOKS_AND_REFERENCE</th>\n",
       "      <td>1.921470e+09</td>\n",
       "    </tr>\n",
       "    <tr>\n",
       "      <th>SPORTS</th>\n",
       "      <td>1.751174e+09</td>\n",
       "    </tr>\n",
       "    <tr>\n",
       "      <th>HEALTH_AND_FITNESS</th>\n",
       "      <td>1.583073e+09</td>\n",
       "    </tr>\n",
       "    <tr>\n",
       "      <th>BUSINESS</th>\n",
       "      <td>1.001915e+09</td>\n",
       "    </tr>\n",
       "    <tr>\n",
       "      <th>FINANCE</th>\n",
       "      <td>8.766487e+08</td>\n",
       "    </tr>\n",
       "    <tr>\n",
       "      <th>EDUCATION</th>\n",
       "      <td>8.714520e+08</td>\n",
       "    </tr>\n",
       "    <tr>\n",
       "      <th>MAPS_AND_NAVIGATION</th>\n",
       "      <td>7.242819e+08</td>\n",
       "    </tr>\n",
       "    <tr>\n",
       "      <th>LIFESTYLE</th>\n",
       "      <td>5.376435e+08</td>\n",
       "    </tr>\n",
       "    <tr>\n",
       "      <th>WEATHER</th>\n",
       "      <td>4.261005e+08</td>\n",
       "    </tr>\n",
       "    <tr>\n",
       "      <th>FOOD_AND_DRINK</th>\n",
       "      <td>2.738988e+08</td>\n",
       "    </tr>\n",
       "    <tr>\n",
       "      <th>DATING</th>\n",
       "      <td>2.643108e+08</td>\n",
       "    </tr>\n",
       "    <tr>\n",
       "      <th>HOUSE_AND_HOME</th>\n",
       "      <td>1.687125e+08</td>\n",
       "    </tr>\n",
       "    <tr>\n",
       "      <th>ART_AND_DESIGN</th>\n",
       "      <td>1.243381e+08</td>\n",
       "    </tr>\n",
       "    <tr>\n",
       "      <th>LIBRARIES_AND_DEMO</th>\n",
       "      <td>6.299591e+07</td>\n",
       "    </tr>\n",
       "    <tr>\n",
       "      <th>COMICS</th>\n",
       "      <td>5.608615e+07</td>\n",
       "    </tr>\n",
       "    <tr>\n",
       "      <th>MEDICAL</th>\n",
       "      <td>5.325744e+07</td>\n",
       "    </tr>\n",
       "    <tr>\n",
       "      <th>AUTO_AND_VEHICLES</th>\n",
       "      <td>5.313021e+07</td>\n",
       "    </tr>\n",
       "    <tr>\n",
       "      <th>PARENTING</th>\n",
       "      <td>3.152111e+07</td>\n",
       "    </tr>\n",
       "    <tr>\n",
       "      <th>BEAUTY</th>\n",
       "      <td>2.719705e+07</td>\n",
       "    </tr>\n",
       "    <tr>\n",
       "      <th>EVENTS</th>\n",
       "      <td>1.597316e+07</td>\n",
       "    </tr>\n",
       "  </tbody>\n",
       "</table>\n",
       "</div>"
      ],
      "text/plain": [
       "                         Installs\n",
       "Category                         \n",
       "GAME                 3.508602e+10\n",
       "COMMUNICATION        3.264728e+10\n",
       "PRODUCTIVITY         1.417609e+10\n",
       "SOCIAL               1.406987e+10\n",
       "TOOLS                1.145277e+10\n",
       "FAMILY               1.025826e+10\n",
       "PHOTOGRAPHY          1.008825e+10\n",
       "NEWS_AND_MAGAZINES   7.496318e+09\n",
       "TRAVEL_AND_LOCAL     6.868887e+09\n",
       "VIDEO_PLAYERS        6.222003e+09\n",
       "SHOPPING             3.247849e+09\n",
       "ENTERTAINMENT        2.869160e+09\n",
       "PERSONALIZATION      2.325495e+09\n",
       "BOOKS_AND_REFERENCE  1.921470e+09\n",
       "SPORTS               1.751174e+09\n",
       "HEALTH_AND_FITNESS   1.583073e+09\n",
       "BUSINESS             1.001915e+09\n",
       "FINANCE              8.766487e+08\n",
       "EDUCATION            8.714520e+08\n",
       "MAPS_AND_NAVIGATION  7.242819e+08\n",
       "LIFESTYLE            5.376435e+08\n",
       "WEATHER              4.261005e+08\n",
       "FOOD_AND_DRINK       2.738988e+08\n",
       "DATING               2.643108e+08\n",
       "HOUSE_AND_HOME       1.687125e+08\n",
       "ART_AND_DESIGN       1.243381e+08\n",
       "LIBRARIES_AND_DEMO   6.299591e+07\n",
       "COMICS               5.608615e+07\n",
       "MEDICAL              5.325744e+07\n",
       "AUTO_AND_VEHICLES    5.313021e+07\n",
       "PARENTING            3.152111e+07\n",
       "BEAUTY               2.719705e+07\n",
       "EVENTS               1.597316e+07"
      ]
     },
     "execution_count": 89,
     "metadata": {},
     "output_type": "execute_result"
    }
   ],
   "source": [
    "most_pop_category = df[['Category','Installs']].groupby('Category').sum().sort_values(by='Installs', ascending=False)\n",
    "most_pop_category"
   ]
  },
  {
   "cell_type": "markdown",
   "metadata": {},
   "source": [
    "#### Самая популярная категория по количеству загрузок - Игры"
   ]
  },
  {
   "cell_type": "code",
   "execution_count": 99,
   "metadata": {},
   "outputs": [
    {
     "data": {
      "text/plain": [
       "<AxesSubplot:title={'center':'Топ-10 категорий по количеству загрузок'}, xlabel='Категория', ylabel='Количество загрузок'>"
      ]
     },
     "execution_count": 99,
     "metadata": {},
     "output_type": "execute_result"
    },
    {
     "data": {
      "image/png": "[encoded data removed]",
      "text/plain": [
       "<Figure size 432x288 with 1 Axes>"
      ]
     },
     "metadata": {
      "needs_background": "light"
     },
     "output_type": "display_data"
    }
   ],
   "source": [
    "most_pop_category.head(10).plot(kind='bar',                                                                 \n",
    "                       title='Топ-10 категорий по количеству загрузок',\n",
    "                       xlabel='Категория',\n",
    "                       ylabel='Количество загрузок')\n"
   ]
  },
  {
   "cell_type": "code",
   "execution_count": 118,
   "metadata": {},
   "outputs": [
    {
     "data": {
      "text/plain": [
       "Free    10039\n",
       "Paid      800\n",
       "Name: Type, dtype: int64"
      ]
     },
     "execution_count": 118,
     "metadata": {},
     "output_type": "execute_result"
    }
   ],
   "source": [
    "type_ = df['Type'].value_counts()\n",
    "type_"
   ]
  },
  {
   "cell_type": "markdown",
   "metadata": {},
   "source": [
    "#### Количество платных и бесплатных приложений"
   ]
  },
  {
   "cell_type": "code",
   "execution_count": 120,
   "metadata": {},
   "outputs": [
    {
     "data": {
      "text/plain": [
       "<AxesSubplot:ylabel='Type'>"
      ]
     },
     "execution_count": 120,
     "metadata": {},
     "output_type": "execute_result"
    },
    {
     "data": {
      "image/png": "[encoded data removed]",
      "text/plain": [
       "<Figure size 432x288 with 1 Axes>"
      ]
     },
     "metadata": {},
     "output_type": "display_data"
    }
   ],
   "source": [
    "type_.plot(kind='pie')"
   ]
  },
  {
   "cell_type": "markdown",
   "metadata": {},
   "source": [
    "#### Топ-20 самых дорогих приложений"
   ]
  },
  {
   "cell_type": "code",
   "execution_count": 130,
   "metadata": {},
   "outputs": [
    {
     "data": {
      "text/html": [
       "<div>\n",
       "<style scoped>\n",
       "    .dataframe tbody tr th:only-of-type {\n",
       "        vertical-align: middle;\n",
       "    }\n",
       "\n",
       "    .dataframe tbody tr th {\n",
       "        vertical-align: top;\n",
       "    }\n",
       "\n",
       "    .dataframe thead th {\n",
       "        text-align: right;\n",
       "    }\n",
       "</style>\n",
       "<table border=\"1\" class=\"dataframe\">\n",
       "  <thead>\n",
       "    <tr style=\"text-align: right;\">\n",
       "      <th></th>\n",
       "      <th>App</th>\n",
       "      <th>Price</th>\n",
       "    </tr>\n",
       "  </thead>\n",
       "  <tbody>\n",
       "    <tr>\n",
       "      <th>4367</th>\n",
       "      <td>I'm Rich - Trump Edition</td>\n",
       "      <td>400.00</td>\n",
       "    </tr>\n",
       "    <tr>\n",
       "      <th>5351</th>\n",
       "      <td>I am rich</td>\n",
       "      <td>399.99</td>\n",
       "    </tr>\n",
       "    <tr>\n",
       "      <th>5358</th>\n",
       "      <td>I am Rich!</td>\n",
       "      <td>399.99</td>\n",
       "    </tr>\n",
       "    <tr>\n",
       "      <th>4197</th>\n",
       "      <td>most expensive app (H)</td>\n",
       "      <td>399.99</td>\n",
       "    </tr>\n",
       "    <tr>\n",
       "      <th>5369</th>\n",
       "      <td>I am Rich</td>\n",
       "      <td>399.99</td>\n",
       "    </tr>\n",
       "    <tr>\n",
       "      <th>5359</th>\n",
       "      <td>I am rich(premium)</td>\n",
       "      <td>399.99</td>\n",
       "    </tr>\n",
       "    <tr>\n",
       "      <th>5373</th>\n",
       "      <td>I AM RICH PRO PLUS</td>\n",
       "      <td>399.99</td>\n",
       "    </tr>\n",
       "    <tr>\n",
       "      <th>9934</th>\n",
       "      <td>I'm Rich/Eu sou Rico/أنا غني/我很有錢</td>\n",
       "      <td>399.99</td>\n",
       "    </tr>\n",
       "    <tr>\n",
       "      <th>5356</th>\n",
       "      <td>I Am Rich Premium</td>\n",
       "      <td>399.99</td>\n",
       "    </tr>\n",
       "    <tr>\n",
       "      <th>4362</th>\n",
       "      <td>💎 I'm rich</td>\n",
       "      <td>399.99</td>\n",
       "    </tr>\n",
       "    <tr>\n",
       "      <th>5364</th>\n",
       "      <td>I am rich (Most expensive app)</td>\n",
       "      <td>399.99</td>\n",
       "    </tr>\n",
       "    <tr>\n",
       "      <th>5362</th>\n",
       "      <td>I Am Rich Pro</td>\n",
       "      <td>399.99</td>\n",
       "    </tr>\n",
       "    <tr>\n",
       "      <th>5354</th>\n",
       "      <td>I am Rich Plus</td>\n",
       "      <td>399.99</td>\n",
       "    </tr>\n",
       "    <tr>\n",
       "      <th>9917</th>\n",
       "      <td>Eu Sou Rico</td>\n",
       "      <td>394.99</td>\n",
       "    </tr>\n",
       "    <tr>\n",
       "      <th>5366</th>\n",
       "      <td>I Am Rich</td>\n",
       "      <td>389.99</td>\n",
       "    </tr>\n",
       "    <tr>\n",
       "      <th>5357</th>\n",
       "      <td>I am extremely Rich</td>\n",
       "      <td>379.99</td>\n",
       "    </tr>\n",
       "    <tr>\n",
       "      <th>5355</th>\n",
       "      <td>I am rich VIP</td>\n",
       "      <td>299.99</td>\n",
       "    </tr>\n",
       "    <tr>\n",
       "      <th>9719</th>\n",
       "      <td>EP Cook Book</td>\n",
       "      <td>200.00</td>\n",
       "    </tr>\n",
       "    <tr>\n",
       "      <th>6692</th>\n",
       "      <td>cronometra-br</td>\n",
       "      <td>154.99</td>\n",
       "    </tr>\n",
       "    <tr>\n",
       "      <th>6624</th>\n",
       "      <td>BP Fitness Lead Scanner</td>\n",
       "      <td>109.99</td>\n",
       "    </tr>\n",
       "  </tbody>\n",
       "</table>\n",
       "</div>"
      ],
      "text/plain": [
       "                                    App   Price\n",
       "4367           I'm Rich - Trump Edition  400.00\n",
       "5351                          I am rich  399.99\n",
       "5358                         I am Rich!  399.99\n",
       "4197             most expensive app (H)  399.99\n",
       "5369                          I am Rich  399.99\n",
       "5359                 I am rich(premium)  399.99\n",
       "5373                 I AM RICH PRO PLUS  399.99\n",
       "9934  I'm Rich/Eu sou Rico/أنا غني/我很有錢  399.99\n",
       "5356                  I Am Rich Premium  399.99\n",
       "4362                         💎 I'm rich  399.99\n",
       "5364     I am rich (Most expensive app)  399.99\n",
       "5362                      I Am Rich Pro  399.99\n",
       "5354                     I am Rich Plus  399.99\n",
       "9917                        Eu Sou Rico  394.99\n",
       "5366                          I Am Rich  389.99\n",
       "5357                I am extremely Rich  379.99\n",
       "5355                      I am rich VIP  299.99\n",
       "9719                       EP Cook Book  200.00\n",
       "6692                      cronometra-br  154.99\n",
       "6624            BP Fitness Lead Scanner  109.99"
      ]
     },
     "execution_count": 130,
     "metadata": {},
     "output_type": "execute_result"
    }
   ],
   "source": [
    "top_price = df[['App','Price']].sort_values(by='Price', ascending=False).head(20)\n",
    "top_price\n",
    "\"\"\"Здесь встречаются дубликаты названий,что с ними делать?\"\"\""
   ]
  },
  {
   "cell_type": "code",
   "execution_count": 140,
   "metadata": {},
   "outputs": [
    {
     "data": {
      "text/plain": [
       "ROBLOX                                               9\n",
       "CBS Sports App - Scores, News, Stats & Watch Live    8\n",
       "8 Ball Pool                                          7\n",
       "Duolingo: Learn Languages Free                       7\n",
       "ESPN                                                 7\n",
       "                                                    ..\n",
       "Microsoft OneDrive                                   2\n",
       "Princess Coloring Book                               2\n",
       "Kids Balloon Pop Game Free 🎈                         2\n",
       "Shadow Fight 2                                       2\n",
       "Health and Nutrition Guide                           2\n",
       "Name: App, Length: 798, dtype: int64"
      ]
     },
     "execution_count": 140,
     "metadata": {},
     "output_type": "execute_result"
    }
   ],
   "source": [
    "# Поиск дубликатов в названиях приложений\n",
    "df1 = df.App.value_counts()\n",
    "df1[df1>1]"
   ]
  },
  {
   "cell_type": "markdown",
   "metadata": {},
   "source": [
    "#### Достпуность приложений по возрастным группам"
   ]
  },
  {
   "cell_type": "code",
   "execution_count": 153,
   "metadata": {},
   "outputs": [
    {
     "data": {
      "text/html": [
       "<div>\n",
       "<style scoped>\n",
       "    .dataframe tbody tr th:only-of-type {\n",
       "        vertical-align: middle;\n",
       "    }\n",
       "\n",
       "    .dataframe tbody tr th {\n",
       "        vertical-align: top;\n",
       "    }\n",
       "\n",
       "    .dataframe thead th {\n",
       "        text-align: right;\n",
       "    }\n",
       "</style>\n",
       "<table border=\"1\" class=\"dataframe\">\n",
       "  <thead>\n",
       "    <tr style=\"text-align: right;\">\n",
       "      <th></th>\n",
       "      <th>Category</th>\n",
       "    </tr>\n",
       "    <tr>\n",
       "      <th>Content_Rating</th>\n",
       "      <th></th>\n",
       "    </tr>\n",
       "  </thead>\n",
       "  <tbody>\n",
       "    <tr>\n",
       "      <th>Unrated</th>\n",
       "      <td>2</td>\n",
       "    </tr>\n",
       "    <tr>\n",
       "      <th>Adults only 18+</th>\n",
       "      <td>3</td>\n",
       "    </tr>\n",
       "    <tr>\n",
       "      <th>Everyone 10+</th>\n",
       "      <td>414</td>\n",
       "    </tr>\n",
       "    <tr>\n",
       "      <th>Mature 17+</th>\n",
       "      <td>499</td>\n",
       "    </tr>\n",
       "    <tr>\n",
       "      <th>Teen</th>\n",
       "      <td>1208</td>\n",
       "    </tr>\n",
       "    <tr>\n",
       "      <th>Everyone</th>\n",
       "      <td>8714</td>\n",
       "    </tr>\n",
       "  </tbody>\n",
       "</table>\n",
       "</div>"
      ],
      "text/plain": [
       "                 Category\n",
       "Content_Rating           \n",
       "Unrated                 2\n",
       "Adults only 18+         3\n",
       "Everyone 10+          414\n",
       "Mature 17+            499\n",
       "Teen                 1208\n",
       "Everyone             8714"
      ]
     },
     "execution_count": 153,
     "metadata": {},
     "output_type": "execute_result"
    }
   ],
   "source": [
    "content = df[['Category','Content_Rating']].groupby('Content_Rating').count().sort_values(by='Category')\n",
    "content"
   ]
  },
  {
   "cell_type": "code",
   "execution_count": 154,
   "metadata": {},
   "outputs": [
    {
     "data": {
      "text/plain": [
       "<AxesSubplot:xlabel='Content_Rating'>"
      ]
     },
     "execution_count": 154,
     "metadata": {},
     "output_type": "execute_result"
    },
    {
     "data": {
      "image/png": "[encoded data removed]",
      "text/plain": [
       "<Figure size 432x288 with 1 Axes>"
      ]
     },
     "metadata": {
      "needs_background": "light"
     },
     "output_type": "display_data"
    }
   ],
   "source": [
    "content.plot(kind='bar')"
   ]
  },
  {
   "cell_type": "markdown",
   "metadata": {},
   "source": [
    "#### Количество отзывов для каждой категории приложений"
   ]
  },
  {
   "cell_type": "code",
   "execution_count": 168,
   "metadata": {},
   "outputs": [
    {
     "data": {
      "text/html": [
       "<div>\n",
       "<style scoped>\n",
       "    .dataframe tbody tr th:only-of-type {\n",
       "        vertical-align: middle;\n",
       "    }\n",
       "\n",
       "    .dataframe tbody tr th {\n",
       "        vertical-align: top;\n",
       "    }\n",
       "\n",
       "    .dataframe thead th {\n",
       "        text-align: right;\n",
       "    }\n",
       "</style>\n",
       "<table border=\"1\" class=\"dataframe\">\n",
       "  <thead>\n",
       "    <tr style=\"text-align: right;\">\n",
       "      <th></th>\n",
       "      <th>Reviews</th>\n",
       "    </tr>\n",
       "    <tr>\n",
       "      <th>Category</th>\n",
       "      <th></th>\n",
       "    </tr>\n",
       "  </thead>\n",
       "  <tbody>\n",
       "    <tr>\n",
       "      <th>GAME</th>\n",
       "      <td>1585422349</td>\n",
       "    </tr>\n",
       "    <tr>\n",
       "      <th>COMMUNICATION</th>\n",
       "      <td>815462260</td>\n",
       "    </tr>\n",
       "    <tr>\n",
       "      <th>SOCIAL</th>\n",
       "      <td>621241422</td>\n",
       "    </tr>\n",
       "    <tr>\n",
       "      <th>FAMILY</th>\n",
       "      <td>410226330</td>\n",
       "    </tr>\n",
       "    <tr>\n",
       "      <th>TOOLS</th>\n",
       "      <td>273185044</td>\n",
       "    </tr>\n",
       "    <tr>\n",
       "      <th>PHOTOGRAPHY</th>\n",
       "      <td>213516650</td>\n",
       "    </tr>\n",
       "    <tr>\n",
       "      <th>SHOPPING</th>\n",
       "      <td>115041222</td>\n",
       "    </tr>\n",
       "    <tr>\n",
       "      <th>PRODUCTIVITY</th>\n",
       "      <td>114116975</td>\n",
       "    </tr>\n",
       "    <tr>\n",
       "      <th>VIDEO_PLAYERS</th>\n",
       "      <td>110380188</td>\n",
       "    </tr>\n",
       "    <tr>\n",
       "      <th>PERSONALIZATION</th>\n",
       "      <td>89346140</td>\n",
       "    </tr>\n",
       "  </tbody>\n",
       "</table>\n",
       "</div>"
      ],
      "text/plain": [
       "                    Reviews\n",
       "Category                   \n",
       "GAME             1585422349\n",
       "COMMUNICATION     815462260\n",
       "SOCIAL            621241422\n",
       "FAMILY            410226330\n",
       "TOOLS             273185044\n",
       "PHOTOGRAPHY       213516650\n",
       "SHOPPING          115041222\n",
       "PRODUCTIVITY      114116975\n",
       "VIDEO_PLAYERS     110380188\n",
       "PERSONALIZATION    89346140"
      ]
     },
     "execution_count": 168,
     "metadata": {},
     "output_type": "execute_result"
    }
   ],
   "source": [
    "rew = df[['Category','Reviews']].groupby('Category').sum().sort_values(by='Reviews', ascending=False)\n",
    "rew.head(10)"
   ]
  },
  {
   "cell_type": "code",
   "execution_count": 175,
   "metadata": {},
   "outputs": [
    {
     "data": {
      "text/plain": [
       "<AxesSubplot:xlabel='Category'>"
      ]
     },
     "execution_count": 175,
     "metadata": {},
     "output_type": "execute_result"
    },
    {
     "data": {
      "image/png": "[encoded data removed]",
      "text/plain": [
       "<Figure size 432x288 with 1 Axes>"
      ]
     },
     "metadata": {
      "needs_background": "light"
     },
     "output_type": "display_data"
    }
   ],
   "source": [
    "rew.plot(kind='area')\n"
   ]
  },
  {
   "cell_type": "code",
   "execution_count": null,
   "metadata": {},
   "outputs": [],
   "source": []
  },
  {
   "cell_type": "code",
   "execution_count": 206,
   "metadata": {},
   "outputs": [
    {
     "data": {
      "text/html": [
       "<div>\n",
       "<style scoped>\n",
       "    .dataframe tbody tr th:only-of-type {\n",
       "        vertical-align: middle;\n",
       "    }\n",
       "\n",
       "    .dataframe tbody tr th {\n",
       "        vertical-align: top;\n",
       "    }\n",
       "\n",
       "    .dataframe thead th {\n",
       "        text-align: right;\n",
       "    }\n",
       "</style>\n",
       "<table border=\"1\" class=\"dataframe\">\n",
       "  <thead>\n",
       "    <tr style=\"text-align: right;\">\n",
       "      <th></th>\n",
       "      <th>Category</th>\n",
       "      <th>Rating</th>\n",
       "      <th>Type</th>\n",
       "    </tr>\n",
       "  </thead>\n",
       "  <tbody>\n",
       "    <tr>\n",
       "      <th>0</th>\n",
       "      <td>ART_AND_DESIGN</td>\n",
       "      <td>4.1</td>\n",
       "      <td>Free</td>\n",
       "    </tr>\n",
       "    <tr>\n",
       "      <th>1</th>\n",
       "      <td>ART_AND_DESIGN</td>\n",
       "      <td>3.9</td>\n",
       "      <td>Free</td>\n",
       "    </tr>\n",
       "    <tr>\n",
       "      <th>2</th>\n",
       "      <td>ART_AND_DESIGN</td>\n",
       "      <td>4.7</td>\n",
       "      <td>Free</td>\n",
       "    </tr>\n",
       "    <tr>\n",
       "      <th>3</th>\n",
       "      <td>ART_AND_DESIGN</td>\n",
       "      <td>4.5</td>\n",
       "      <td>Free</td>\n",
       "    </tr>\n",
       "    <tr>\n",
       "      <th>4</th>\n",
       "      <td>ART_AND_DESIGN</td>\n",
       "      <td>4.3</td>\n",
       "      <td>Free</td>\n",
       "    </tr>\n",
       "    <tr>\n",
       "      <th>...</th>\n",
       "      <td>...</td>\n",
       "      <td>...</td>\n",
       "      <td>...</td>\n",
       "    </tr>\n",
       "    <tr>\n",
       "      <th>10836</th>\n",
       "      <td>FAMILY</td>\n",
       "      <td>4.5</td>\n",
       "      <td>Free</td>\n",
       "    </tr>\n",
       "    <tr>\n",
       "      <th>10837</th>\n",
       "      <td>FAMILY</td>\n",
       "      <td>5.0</td>\n",
       "      <td>Free</td>\n",
       "    </tr>\n",
       "    <tr>\n",
       "      <th>10838</th>\n",
       "      <td>MEDICAL</td>\n",
       "      <td>NaN</td>\n",
       "      <td>Free</td>\n",
       "    </tr>\n",
       "    <tr>\n",
       "      <th>10839</th>\n",
       "      <td>BOOKS_AND_REFERENCE</td>\n",
       "      <td>4.5</td>\n",
       "      <td>Free</td>\n",
       "    </tr>\n",
       "    <tr>\n",
       "      <th>10840</th>\n",
       "      <td>LIFESTYLE</td>\n",
       "      <td>4.5</td>\n",
       "      <td>Free</td>\n",
       "    </tr>\n",
       "  </tbody>\n",
       "</table>\n",
       "<p>10840 rows × 3 columns</p>\n",
       "</div>"
      ],
      "text/plain": [
       "                  Category  Rating  Type\n",
       "0           ART_AND_DESIGN     4.1  Free\n",
       "1           ART_AND_DESIGN     3.9  Free\n",
       "2           ART_AND_DESIGN     4.7  Free\n",
       "3           ART_AND_DESIGN     4.5  Free\n",
       "4           ART_AND_DESIGN     4.3  Free\n",
       "...                    ...     ...   ...\n",
       "10836               FAMILY     4.5  Free\n",
       "10837               FAMILY     5.0  Free\n",
       "10838              MEDICAL     NaN  Free\n",
       "10839  BOOKS_AND_REFERENCE     4.5  Free\n",
       "10840            LIFESTYLE     4.5  Free\n",
       "\n",
       "[10840 rows x 3 columns]"
      ]
     },
     "execution_count": 206,
     "metadata": {},
     "output_type": "execute_result"
    }
   ],
   "source": [
    "#отфильтруем датафрейм по нужным колонкам\n",
    "df_filtr=df[['Category','Rating','Type']]\n",
    "df_filtr"
   ]
  },
  {
   "cell_type": "markdown",
   "metadata": {},
   "source": [
    "#### Средний рейтинг по категориям для бесплатных приложений"
   ]
  },
  {
   "cell_type": "code",
   "execution_count": 204,
   "metadata": {},
   "outputs": [
    {
     "data": {
      "text/html": [
       "<div>\n",
       "<style scoped>\n",
       "    .dataframe tbody tr th:only-of-type {\n",
       "        vertical-align: middle;\n",
       "    }\n",
       "\n",
       "    .dataframe tbody tr th {\n",
       "        vertical-align: top;\n",
       "    }\n",
       "\n",
       "    .dataframe thead th {\n",
       "        text-align: right;\n",
       "    }\n",
       "</style>\n",
       "<table border=\"1\" class=\"dataframe\">\n",
       "  <thead>\n",
       "    <tr style=\"text-align: right;\">\n",
       "      <th></th>\n",
       "      <th>Rating</th>\n",
       "    </tr>\n",
       "    <tr>\n",
       "      <th>Category</th>\n",
       "      <th></th>\n",
       "    </tr>\n",
       "  </thead>\n",
       "  <tbody>\n",
       "    <tr>\n",
       "      <th>ART_AND_DESIGN</th>\n",
       "      <td>4.338983</td>\n",
       "    </tr>\n",
       "    <tr>\n",
       "      <th>AUTO_AND_VEHICLES</th>\n",
       "      <td>4.184722</td>\n",
       "    </tr>\n",
       "    <tr>\n",
       "      <th>BEAUTY</th>\n",
       "      <td>4.278571</td>\n",
       "    </tr>\n",
       "    <tr>\n",
       "      <th>BOOKS_AND_REFERENCE</th>\n",
       "      <td>4.349412</td>\n",
       "    </tr>\n",
       "    <tr>\n",
       "      <th>BUSINESS</th>\n",
       "      <td>4.118493</td>\n",
       "    </tr>\n",
       "    <tr>\n",
       "      <th>COMICS</th>\n",
       "      <td>4.155172</td>\n",
       "    </tr>\n",
       "    <tr>\n",
       "      <th>COMMUNICATION</th>\n",
       "      <td>4.165359</td>\n",
       "    </tr>\n",
       "    <tr>\n",
       "      <th>DATING</th>\n",
       "      <td>3.978010</td>\n",
       "    </tr>\n",
       "    <tr>\n",
       "      <th>EDUCATION</th>\n",
       "      <td>4.379470</td>\n",
       "    </tr>\n",
       "    <tr>\n",
       "      <th>ENTERTAINMENT</th>\n",
       "      <td>4.119728</td>\n",
       "    </tr>\n",
       "    <tr>\n",
       "      <th>EVENTS</th>\n",
       "      <td>4.435556</td>\n",
       "    </tr>\n",
       "    <tr>\n",
       "      <th>FAMILY</th>\n",
       "      <td>4.181767</td>\n",
       "    </tr>\n",
       "    <tr>\n",
       "      <th>FINANCE</th>\n",
       "      <td>4.144516</td>\n",
       "    </tr>\n",
       "    <tr>\n",
       "      <th>FOOD_AND_DRINK</th>\n",
       "      <td>4.163551</td>\n",
       "    </tr>\n",
       "    <tr>\n",
       "      <th>GAME</th>\n",
       "      <td>4.279804</td>\n",
       "    </tr>\n",
       "    <tr>\n",
       "      <th>HEALTH_AND_FITNESS</th>\n",
       "      <td>4.272281</td>\n",
       "    </tr>\n",
       "    <tr>\n",
       "      <th>HOUSE_AND_HOME</th>\n",
       "      <td>4.197368</td>\n",
       "    </tr>\n",
       "    <tr>\n",
       "      <th>LIBRARIES_AND_DEMO</th>\n",
       "      <td>4.178462</td>\n",
       "    </tr>\n",
       "    <tr>\n",
       "      <th>LIFESTYLE</th>\n",
       "      <td>4.085473</td>\n",
       "    </tr>\n",
       "    <tr>\n",
       "      <th>MAPS_AND_NAVIGATION</th>\n",
       "      <td>4.059664</td>\n",
       "    </tr>\n",
       "    <tr>\n",
       "      <th>MEDICAL</th>\n",
       "      <td>4.165649</td>\n",
       "    </tr>\n",
       "    <tr>\n",
       "      <th>NEWS_AND_MAGAZINES</th>\n",
       "      <td>4.126407</td>\n",
       "    </tr>\n",
       "    <tr>\n",
       "      <th>PARENTING</th>\n",
       "      <td>4.339583</td>\n",
       "    </tr>\n",
       "    <tr>\n",
       "      <th>PERSONALIZATION</th>\n",
       "      <td>4.307287</td>\n",
       "    </tr>\n",
       "    <tr>\n",
       "      <th>PHOTOGRAPHY</th>\n",
       "      <td>4.201003</td>\n",
       "    </tr>\n",
       "    <tr>\n",
       "      <th>PRODUCTIVITY</th>\n",
       "      <td>4.211712</td>\n",
       "    </tr>\n",
       "    <tr>\n",
       "      <th>SHOPPING</th>\n",
       "      <td>4.257627</td>\n",
       "    </tr>\n",
       "    <tr>\n",
       "      <th>SOCIAL</th>\n",
       "      <td>4.259922</td>\n",
       "    </tr>\n",
       "    <tr>\n",
       "      <th>SPORTS</th>\n",
       "      <td>4.221212</td>\n",
       "    </tr>\n",
       "    <tr>\n",
       "      <th>TOOLS</th>\n",
       "      <td>4.035917</td>\n",
       "    </tr>\n",
       "    <tr>\n",
       "      <th>TRAVEL_AND_LOCAL</th>\n",
       "      <td>4.109633</td>\n",
       "    </tr>\n",
       "    <tr>\n",
       "      <th>VIDEO_PLAYERS</th>\n",
       "      <td>4.062821</td>\n",
       "    </tr>\n",
       "    <tr>\n",
       "      <th>WEATHER</th>\n",
       "      <td>4.230882</td>\n",
       "    </tr>\n",
       "  </tbody>\n",
       "</table>\n",
       "</div>"
      ],
      "text/plain": [
       "                       Rating\n",
       "Category                     \n",
       "ART_AND_DESIGN       4.338983\n",
       "AUTO_AND_VEHICLES    4.184722\n",
       "BEAUTY               4.278571\n",
       "BOOKS_AND_REFERENCE  4.349412\n",
       "BUSINESS             4.118493\n",
       "COMICS               4.155172\n",
       "COMMUNICATION        4.165359\n",
       "DATING               3.978010\n",
       "EDUCATION            4.379470\n",
       "ENTERTAINMENT        4.119728\n",
       "EVENTS               4.435556\n",
       "FAMILY               4.181767\n",
       "FINANCE              4.144516\n",
       "FOOD_AND_DRINK       4.163551\n",
       "GAME                 4.279804\n",
       "HEALTH_AND_FITNESS   4.272281\n",
       "HOUSE_AND_HOME       4.197368\n",
       "LIBRARIES_AND_DEMO   4.178462\n",
       "LIFESTYLE            4.085473\n",
       "MAPS_AND_NAVIGATION  4.059664\n",
       "MEDICAL              4.165649\n",
       "NEWS_AND_MAGAZINES   4.126407\n",
       "PARENTING            4.339583\n",
       "PERSONALIZATION      4.307287\n",
       "PHOTOGRAPHY          4.201003\n",
       "PRODUCTIVITY         4.211712\n",
       "SHOPPING             4.257627\n",
       "SOCIAL               4.259922\n",
       "SPORTS               4.221212\n",
       "TOOLS                4.035917\n",
       "TRAVEL_AND_LOCAL     4.109633\n",
       "VIDEO_PLAYERS        4.062821\n",
       "WEATHER              4.230882"
      ]
     },
     "execution_count": 204,
     "metadata": {},
     "output_type": "execute_result"
    }
   ],
   "source": [
    "free=df_filtr.loc[df1['Type']=='Free'].groupby('Category').mean()\n",
    "free"
   ]
  },
  {
   "cell_type": "markdown",
   "metadata": {},
   "source": [
    "#### Средний рейтинг по категориям для платных приложений"
   ]
  },
  {
   "cell_type": "code",
   "execution_count": 201,
   "metadata": {},
   "outputs": [
    {
     "data": {
      "text/html": [
       "<div>\n",
       "<style scoped>\n",
       "    .dataframe tbody tr th:only-of-type {\n",
       "        vertical-align: middle;\n",
       "    }\n",
       "\n",
       "    .dataframe tbody tr th {\n",
       "        vertical-align: top;\n",
       "    }\n",
       "\n",
       "    .dataframe thead th {\n",
       "        text-align: right;\n",
       "    }\n",
       "</style>\n",
       "<table border=\"1\" class=\"dataframe\">\n",
       "  <thead>\n",
       "    <tr style=\"text-align: right;\">\n",
       "      <th></th>\n",
       "      <th>Rating</th>\n",
       "    </tr>\n",
       "    <tr>\n",
       "      <th>Category</th>\n",
       "      <th></th>\n",
       "    </tr>\n",
       "  </thead>\n",
       "  <tbody>\n",
       "    <tr>\n",
       "      <th>ART_AND_DESIGN</th>\n",
       "      <td>4.733333</td>\n",
       "    </tr>\n",
       "    <tr>\n",
       "      <th>AUTO_AND_VEHICLES</th>\n",
       "      <td>4.600000</td>\n",
       "    </tr>\n",
       "    <tr>\n",
       "      <th>BOOKS_AND_REFERENCE</th>\n",
       "      <td>4.275000</td>\n",
       "    </tr>\n",
       "    <tr>\n",
       "      <th>BUSINESS</th>\n",
       "      <td>4.200000</td>\n",
       "    </tr>\n",
       "    <tr>\n",
       "      <th>COMMUNICATION</th>\n",
       "      <td>4.063636</td>\n",
       "    </tr>\n",
       "    <tr>\n",
       "      <th>DATING</th>\n",
       "      <td>3.625000</td>\n",
       "    </tr>\n",
       "    <tr>\n",
       "      <th>EDUCATION</th>\n",
       "      <td>4.750000</td>\n",
       "    </tr>\n",
       "    <tr>\n",
       "      <th>ENTERTAINMENT</th>\n",
       "      <td>4.600000</td>\n",
       "    </tr>\n",
       "    <tr>\n",
       "      <th>EVENTS</th>\n",
       "      <td>NaN</td>\n",
       "    </tr>\n",
       "    <tr>\n",
       "      <th>FAMILY</th>\n",
       "      <td>4.295062</td>\n",
       "    </tr>\n",
       "    <tr>\n",
       "      <th>FINANCE</th>\n",
       "      <td>3.830769</td>\n",
       "    </tr>\n",
       "    <tr>\n",
       "      <th>FOOD_AND_DRINK</th>\n",
       "      <td>4.350000</td>\n",
       "    </tr>\n",
       "    <tr>\n",
       "      <th>GAME</th>\n",
       "      <td>4.372727</td>\n",
       "    </tr>\n",
       "    <tr>\n",
       "      <th>HEALTH_AND_FITNESS</th>\n",
       "      <td>4.391667</td>\n",
       "    </tr>\n",
       "    <tr>\n",
       "      <th>LIBRARIES_AND_DEMO</th>\n",
       "      <td>NaN</td>\n",
       "    </tr>\n",
       "    <tr>\n",
       "      <th>LIFESTYLE</th>\n",
       "      <td>4.250000</td>\n",
       "    </tr>\n",
       "    <tr>\n",
       "      <th>MAPS_AND_NAVIGATION</th>\n",
       "      <td>3.860000</td>\n",
       "    </tr>\n",
       "    <tr>\n",
       "      <th>MEDICAL</th>\n",
       "      <td>4.259091</td>\n",
       "    </tr>\n",
       "    <tr>\n",
       "      <th>NEWS_AND_MAGAZINES</th>\n",
       "      <td>4.800000</td>\n",
       "    </tr>\n",
       "    <tr>\n",
       "      <th>PARENTING</th>\n",
       "      <td>3.350000</td>\n",
       "    </tr>\n",
       "    <tr>\n",
       "      <th>PERSONALIZATION</th>\n",
       "      <td>4.441791</td>\n",
       "    </tr>\n",
       "    <tr>\n",
       "      <th>PHOTOGRAPHY</th>\n",
       "      <td>4.044444</td>\n",
       "    </tr>\n",
       "    <tr>\n",
       "      <th>PRODUCTIVITY</th>\n",
       "      <td>4.205556</td>\n",
       "    </tr>\n",
       "    <tr>\n",
       "      <th>SHOPPING</th>\n",
       "      <td>4.500000</td>\n",
       "    </tr>\n",
       "    <tr>\n",
       "      <th>SOCIAL</th>\n",
       "      <td>3.700000</td>\n",
       "    </tr>\n",
       "    <tr>\n",
       "      <th>SPORTS</th>\n",
       "      <td>4.254545</td>\n",
       "    </tr>\n",
       "    <tr>\n",
       "      <th>TOOLS</th>\n",
       "      <td>4.169841</td>\n",
       "    </tr>\n",
       "    <tr>\n",
       "      <th>TRAVEL_AND_LOCAL</th>\n",
       "      <td>4.100000</td>\n",
       "    </tr>\n",
       "    <tr>\n",
       "      <th>VIDEO_PLAYERS</th>\n",
       "      <td>4.100000</td>\n",
       "    </tr>\n",
       "    <tr>\n",
       "      <th>WEATHER</th>\n",
       "      <td>4.371429</td>\n",
       "    </tr>\n",
       "  </tbody>\n",
       "</table>\n",
       "</div>"
      ],
      "text/plain": [
       "                       Rating\n",
       "Category                     \n",
       "ART_AND_DESIGN       4.733333\n",
       "AUTO_AND_VEHICLES    4.600000\n",
       "BOOKS_AND_REFERENCE  4.275000\n",
       "BUSINESS             4.200000\n",
       "COMMUNICATION        4.063636\n",
       "DATING               3.625000\n",
       "EDUCATION            4.750000\n",
       "ENTERTAINMENT        4.600000\n",
       "EVENTS                    NaN\n",
       "FAMILY               4.295062\n",
       "FINANCE              3.830769\n",
       "FOOD_AND_DRINK       4.350000\n",
       "GAME                 4.372727\n",
       "HEALTH_AND_FITNESS   4.391667\n",
       "LIBRARIES_AND_DEMO        NaN\n",
       "LIFESTYLE            4.250000\n",
       "MAPS_AND_NAVIGATION  3.860000\n",
       "MEDICAL              4.259091\n",
       "NEWS_AND_MAGAZINES   4.800000\n",
       "PARENTING            3.350000\n",
       "PERSONALIZATION      4.441791\n",
       "PHOTOGRAPHY          4.044444\n",
       "PRODUCTIVITY         4.205556\n",
       "SHOPPING             4.500000\n",
       "SOCIAL               3.700000\n",
       "SPORTS               4.254545\n",
       "TOOLS                4.169841\n",
       "TRAVEL_AND_LOCAL     4.100000\n",
       "VIDEO_PLAYERS        4.100000\n",
       "WEATHER              4.371429"
      ]
     },
     "execution_count": 201,
     "metadata": {},
     "output_type": "execute_result"
    }
   ],
   "source": [
    "paid=df_filtr.loc[df1['Type']=='Paid'].groupby('Category').mean()\n",
    "paid"
   ]
  },
  {
   "cell_type": "code",
   "execution_count": 205,
   "metadata": {},
   "outputs": [
    {
     "data": {
      "text/plain": [
       "<AxesSubplot:title={'center':'Распределение среднего рейтинга платных приложений'}, ylabel='Frequency'>"
      ]
     },
     "execution_count": 205,
     "metadata": {},
     "output_type": "execute_result"
    },
    {
     "data": {
      "image/png": "[encoded data removed]",
      "text/plain": [
       "<Figure size 432x288 with 1 Axes>"
      ]
     },
     "metadata": {
      "needs_background": "light"
     },
     "output_type": "display_data"
    }
   ],
   "source": [
    "# сравнение рейтинга платных и бесплатных приложений\n",
    "free['Rating'].plot(kind='hist', \n",
    "                     title='Распределение среднего рейтинга бесплатных приложений',\n",
    "                     alpha = 0.5,\n",
    "                     density = True)\n",
    "\n",
    "\n",
    "paid['Rating'].plot(kind='hist', \n",
    "                     title='Распределение среднего рейтинга платных приложений',\n",
    "                     alpha = 0.5,\n",
    "                     density = True)\n"
   ]
  },
  {
   "cell_type": "markdown",
   "metadata": {},
   "source": [
    "#### Вывод: бесплатным приложеням пользователи  в среднем ставят рейтинг 4.0-4.4, а платные приложения пользователи оценивают более критично и рейтинг варьируется в пределах 3.8-4.8"
   ]
  },
  {
   "cell_type": "code",
   "execution_count": null,
   "metadata": {},
   "outputs": [],
   "source": []
  },
  {
   "cell_type": "code",
   "execution_count": null,
   "metadata": {},
   "outputs": [],
   "source": []
  },
  {
   "cell_type": "code",
   "execution_count": null,
   "metadata": {},
   "outputs": [],
   "source": []
  },
  {
   "cell_type": "code",
   "execution_count": null,
   "metadata": {},
   "outputs": [],
   "source": []
  }
 ],
 "metadata": {
  "kernelspec": {
   "display_name": "Python 3",
   "language": "python",
   "name": "python3"
  },
  "language_info": {
   "codemirror_mode": {
    "name": "ipython",
    "version": 3
   },
   "file_extension": ".py",
   "mimetype": "text/x-python",
   "name": "python",
   "nbconvert_exporter": "python",
   "pygments_lexer": "ipython3",
   "version": "3.8.5"
  }
 },
 "nbformat": 4,
 "nbformat_minor": 4
}
